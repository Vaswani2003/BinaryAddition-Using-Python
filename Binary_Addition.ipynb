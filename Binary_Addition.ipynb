{
  "nbformat": 4,
  "nbformat_minor": 0,
  "metadata": {
    "colab": {
      "provenance": []
    },
    "kernelspec": {
      "name": "python3",
      "display_name": "Python 3"
    },
    "language_info": {
      "name": "python"
    }
  },
  "cells": [
    {
      "cell_type": "code",
      "source": [
        "def D2B(numbers) :\n",
        "\n",
        "  results = []\n",
        "\n",
        "  for i in range(len(numbers)) :\n",
        "    temp = numbers[i] \n",
        "    BinaryString = ''\n",
        "\n",
        "    while temp != 0 :\n",
        "      BinaryString += str(temp%2)\n",
        "      temp = temp//2\n",
        "\n",
        "    BinaryString = BinaryString[::-1] \n",
        "    results.append(BinaryString)\n",
        "    \n",
        "  x = results[0] \n",
        "  y = results[1]\n",
        "\n",
        "  x = x.zfill( max(len(x),len(y) ) )\n",
        "  y = y.zfill( max(len(x),len(y) ) )\n",
        "  \n",
        "  return (x,y)\n"
      ],
      "metadata": {
        "id": "psH0L2vovYlP"
      },
      "execution_count": 78,
      "outputs": []
    },
    {
      "cell_type": "code",
      "source": [
        "def BinaryAddition(n1, n2) :\n",
        "  result = ''\n",
        "  carry = 0 \n",
        "\n",
        "  for i in range( max(len(n1),len(n2)) - 1 , -1, -1 ) :\n",
        "    temp = carry \n",
        "\n",
        "    temp += 1 if n1[i] == '1' else 0 \n",
        "    temp += 1 if n2[i] == '1' else 0 \n",
        "\n",
        "    result = ( '1' if temp%2 == 1 else '0' ) + result \n",
        "\n",
        "    carry = 0 if temp < 2 else 1 \n",
        "  \n",
        "  if carry != 0 :\n",
        "    result = '1' + result\n",
        "\n",
        "  return result "
      ],
      "metadata": {
        "id": "BDini763BraQ"
      },
      "execution_count": null,
      "outputs": []
    },
    {
      "cell_type": "code",
      "source": [
        "def MainFunction() :\n",
        "\n",
        "  Number1 = int(input('Enter first number :'))\n",
        "  Number2 = int(input('Enter Second number :'))\n",
        "\n",
        "  decimals = [Number1,Number2] \n",
        "\n",
        "  results = D2B(decimals)\n",
        "\n",
        "  print('The binary for of {} is {}'.format(Number1,results[0]) ) \n",
        "  print('The binary for of {} is {}'.format(Number2,results[1]) )\n",
        "\n",
        "  print('The binary addition of {} and {} gives {}'.format(results[0],results[1],BinaryAddition(results[0],results[1] ) ) )\n"
      ],
      "metadata": {
        "id": "2ErgejdtBzyw"
      },
      "execution_count": 87,
      "outputs": []
    },
    {
      "cell_type": "markdown",
      "source": [
        "# ***Execute from here***"
      ],
      "metadata": {
        "id": "aJj7PNcdCjD2"
      }
    },
    {
      "cell_type": "code",
      "source": [
        "MainFunction()"
      ],
      "metadata": {
        "colab": {
          "base_uri": "https://localhost:8080/"
        },
        "id": "buYiFDzeChRa",
        "outputId": "97451f29-f642-4018-d9dc-6a7d24cba5a2"
      },
      "execution_count": 88,
      "outputs": [
        {
          "output_type": "stream",
          "name": "stdout",
          "text": [
            "Enter first number :5\n",
            "Enter Second number :15\n",
            "The binary for of 5 is 0101\n",
            "The binary for of 15 is 1111\n",
            "The binary addition of 0101 and 1111 gives 10100\n"
          ]
        }
      ]
    }
  ]
}